{
 "cells": [
  {
   "cell_type": "code",
   "execution_count": 6,
   "metadata": {},
   "outputs": [],
   "source": [
    "import os\n",
    "\n",
    "def read_txt_file(filename):\n",
    "    with open(filename, 'r') as file:\n",
    "        content = file.read()\n",
    "    return content\n",
    "\n",
    "def read_txt_to_list(filename):\n",
    "    with open(filename, 'r') as file:\n",
    "        lines = file.readlines()\n",
    "        lines = [line.strip() for line in lines]\n",
    "    return lines\n",
    "\n",
    "def append_line(filename, line):\n",
    "    with open(filename, 'a') as file:\n",
    "        file.write(line + '\\n')\n",
    "\n",
    "def copy_file(source, destination):\n",
    "    with open(source, 'rb') as f_source:\n",
    "        with open(destination, 'wb') as f_destination:\n",
    "            # Read and write the file in chunks to conserve memory\n",
    "            for chunk in iter(lambda: f_source.read(4096), b''):\n",
    "                f_destination.write(chunk)\n",
    "          \n",
    "                \n",
    "def create_task(site_id='line',\n",
    "            run_path =r'C:/Users/xipeng/OneDrive - UGent/Desktop/create/run/',\n",
    "            driver_path=r'./Inputs/',output_path = r'./Outputs/'):\n",
    "    \n",
    "    task_dir = run_path + site_id +'/'\n",
    "    \n",
    "    if not os.path.exists(task_dir):\n",
    "        os.mkdir(task_dir)\n",
    "    \n",
    "        copy_file('./job_template.sh',task_dir+'./job.sh')\n",
    "        \n",
    "        with open(task_dir+'./job.sh', 'r+') as file:\n",
    "            lines = file.readlines()\n",
    "            \n",
    "            lines.insert(1, '#PBS -N ' + site_id + '\\n')\n",
    "            file.seek(0)\n",
    "            \n",
    "            file.writelines(lines)\n",
    "\n",
    "        \n",
    "        copy_file('./run.r',task_dir+'run.r')\n",
    "\n",
    "        with open(task_dir+'run.r', 'r+') as file:\n",
    "            lines = file.readlines()\n",
    "            \n",
    "            lines.insert(1, driver_path+site_id)\n",
    "            lines.insert(2, output_path + site_id + '.txt')\n",
    "\n",
    "            file.seek(0)\n",
    "            \n",
    "            file.writelines(lines)"
   ]
  },
  {
   "cell_type": "code",
   "execution_count": 13,
   "metadata": {},
   "outputs": [
    {
     "name": "stdout",
     "output_type": "stream",
     "text": [
      "tree1-10m-002-3scans_point.las\n",
      "tree1-10m-004-6scans_point.las\n",
      "tree1-15m-002-6scans_point.las\n",
      "tree1-20m-001-4scans_point.las\n",
      "tree2-10m-004-4scans_point.las\n",
      "tree1-10m-002-4scans_point.las\n",
      "tree1-15m-001-3scans_point.las\n",
      "tree1-15m-004-3scans_point.las\n",
      "tree2-10m-002-3scans_point.las\n",
      "tree2-10m-004-6scans_point.las\n",
      "tree1-10m-002-6scans_point.las\n",
      "tree1-15m-001-4scans_point.las\n",
      "tree1-15m-004-4scans_point.las\n",
      "tree2-10m-002-4scans_point.las\n",
      "tree1-10m-004-3scans_point.las\n",
      "tree1-15m-002-3scans_point.las\n",
      "tree1-15m-004-6scans_point.las\n",
      "tree2-10m-002-6scans_point.las\n",
      "tree1-10m-004-4scans_point.las\n",
      "tree1-15m-002-4scans_point.las\n",
      "tree1-20m-001-3scans_point.las\n",
      "tree2-10m-004-3scans_point.las\n"
     ]
    }
   ],
   "source": [
    "\n",
    "        \n",
    "if not os.path.exists('../run.sh'):\n",
    "    copy_file('./run.sh','./run/run.sh')\n",
    "\n",
    "site_info_file = 'siteinfo.txt'\n",
    "\n",
    "file_lines = read_txt_to_list(site_info_file)\n",
    "for line in file_lines:\n",
    "    print(line)\n",
    "    create_task(\n",
    "        site_id=line,\n",
    "        run_path =r'./run/',\n",
    "        driver_path=r'./Inputs/',\n",
    "        output_path=r'./Outputs/')"
   ]
  },
  {
   "cell_type": "code",
   "execution_count": 5,
   "metadata": {},
   "outputs": [
    {
     "name": "stdout",
     "output_type": "stream",
     "text": [
      "tree1-10m-002-3scans_point.las\n",
      "tree1-10m-004-6scans_point.las\n",
      "tree1-15m-002-6scans_point.las\n",
      "tree1-20m-001-4scans_point.las\n",
      "tree2-10m-004-4scans_point.las\n",
      "tree1-10m-002-4scans_point.las\n",
      "tree1-15m-001-3scans_point.las\n",
      "tree1-15m-004-3scans_point.las\n",
      "tree2-10m-002-3scans_point.las\n",
      "tree2-10m-004-6scans_point.las\n",
      "tree1-10m-002-6scans_point.las\n",
      "tree1-15m-001-4scans_point.las\n",
      "tree1-15m-004-4scans_point.las\n",
      "tree2-10m-002-4scans_point.las\n",
      "tree1-10m-004-3scans_point.las\n",
      "tree1-15m-002-3scans_point.las\n",
      "tree1-15m-004-6scans_point.las\n",
      "tree2-10m-002-6scans_point.las\n",
      "tree1-10m-004-4scans_point.las\n",
      "tree1-15m-002-4scans_point.las\n",
      "tree1-20m-001-3scans_point.las\n",
      "tree2-10m-004-3scans_point.las\n"
     ]
    }
   ],
   "source": [
    "file_lines = read_txt_to_list(site_info_file)\n",
    "for line in file_lines:\n",
    "    print(line)"
   ]
  }
 ],
 "metadata": {
  "kernelspec": {
   "display_name": "Python 3",
   "language": "python",
   "name": "python3"
  },
  "language_info": {
   "codemirror_mode": {
    "name": "ipython",
    "version": 3
   },
   "file_extension": ".py",
   "mimetype": "text/x-python",
   "name": "python",
   "nbconvert_exporter": "python",
   "pygments_lexer": "ipython3",
   "version": "3.9.13"
  }
 },
 "nbformat": 4,
 "nbformat_minor": 2
}
